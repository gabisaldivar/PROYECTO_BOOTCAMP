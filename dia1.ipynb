{
 "cells": [
  {
   "cell_type": "code",
   "execution_count": 3,
   "metadata": {},
   "outputs": [
    {
     "name": "stdout",
     "output_type": "stream",
     "text": [
      "Hola, mundo\n"
     ]
    }
   ],
   "source": [
    "print(\"Hola, mundo\")"
   ]
  },
  {
   "cell_type": "markdown",
   "metadata": {},
   "source": [
    "    variables"
   ]
  },
  {
   "cell_type": "code",
   "execution_count": 5,
   "metadata": {},
   "outputs": [
    {
     "name": "stdout",
     "output_type": "stream",
     "text": [
      "Megan\n",
      "Hola Pinguinas!\n",
      "Daniel\n"
     ]
    }
   ],
   "source": [
    "nombre = \"Megan\"\n",
    "print(nombre)\n",
    "saludo = \"Hola Pinguinas!\"\n",
    "print(saludo)\n",
    "nombre = \"Daniel\"\n",
    "print(nombre)"
   ]
  },
  {
   "cell_type": "markdown",
   "metadata": {},
   "source": [
    "Suma: asignar dos números en dos variables diferentes cantidad_de_manzanas y cantidad_de_naranjas. Luego sumar ambas variables en cantidad_de_frutas. Imprimir la última variable.\n",
    "Resta: asignar un valor numérico a la variable frutas_vendidas. Luego, asignar la resta entre cantidad_de_frutas y frutas_vendidas a la variable frutas_restantes. Imprimir la última variable."
   ]
  },
  {
   "cell_type": "code",
   "execution_count": 10,
   "metadata": {},
   "outputs": [
    {
     "name": "stdout",
     "output_type": "stream",
     "text": [
      "420\n",
      "180\n"
     ]
    }
   ],
   "source": [
    "cantidad_de_manzanas = 250\n",
    "cantidad_de_naranjas = 170\n",
    "cantidad_de_frutas = cantidad_de_manzanas + cantidad_de_naranjas\n",
    "print(cantidad_de_frutas)\n",
    "\n",
    "frutas_vendidas = 240\n",
    "frutas_restantes = cantidad_de_frutas - frutas_vendidas\n",
    "print(frutas_restantes)\n"
   ]
  },
  {
   "cell_type": "markdown",
   "metadata": {},
   "source": [
    "CONCATENACION"
   ]
  },
  {
   "cell_type": "markdown",
   "metadata": {},
   "source": [
    "Challenge 🤺 - 15m\n",
    "\n",
    "Asignar el nombre y el apellido de tu compañera/o a las variables nombre y apellido. \n",
    "Luego, imprimir una frase, utilizando las variables.\n",
    "EJEMPLO: \"Hola. Me llamo Claudia Melgarejo. Mucho gusto.\""
   ]
  },
  {
   "cell_type": "code",
   "execution_count": 22,
   "metadata": {},
   "outputs": [
    {
     "name": "stdout",
     "output_type": "stream",
     "text": [
      "Araceli Vera es inteligente.\n"
     ]
    }
   ],
   "source": [
    "nombre = \"Araceli\"\n",
    "apellido = \"Vera\"\n",
    "print(f\"{nombre} {apellido} es inteligente.\")\n",
    "\n"
   ]
  },
  {
   "cell_type": "markdown",
   "metadata": {},
   "source": [
    "INPUT"
   ]
  },
  {
   "cell_type": "markdown",
   "metadata": {},
   "source": [
    "Solicitar al usuario ingresar dos números y almacenarlos en dos variables. Luego, imprimir la suma de los dos números."
   ]
  },
  {
   "cell_type": "code",
   "execution_count": 24,
   "metadata": {},
   "outputs": [
    {
     "name": "stdout",
     "output_type": "stream",
     "text": [
      "2022\n"
     ]
    }
   ],
   "source": [
    "numero_1 = input(\"Favor ingresar edad: \")\n",
    "numero_2 = input(\"Favor ingresar anho de nacimiento: \")\n",
    "print(int(numero_1) + int(numero_2))"
   ]
  },
  {
   "cell_type": "markdown",
   "metadata": {},
   "source": [
    "FUNCIONES"
   ]
  },
  {
   "cell_type": "markdown",
   "metadata": {},
   "source": [
    "Crear una función de un proceso que se les ocurra que tenga varios pasos.\n",
    "Ejecutar la función 3 veces."
   ]
  },
  {
   "cell_type": "code",
   "execution_count": 25,
   "metadata": {},
   "outputs": [
    {
     "name": "stdout",
     "output_type": "stream",
     "text": [
      "pelar las naranjas\n",
      "remover las semillas\n",
      "cortar las naranjas\n",
      "encender la licuadora\n",
      "anhadir las naranjas cortadas, el azucar y el agua a la licuadora\n",
      "encender la licuadora y poner a funcionar\n",
      "servir con abundante hielo\n",
      "pelar las naranjas\n",
      "remover las semillas\n",
      "cortar las naranjas\n",
      "encender la licuadora\n",
      "anhadir las naranjas cortadas, el azucar y el agua a la licuadora\n",
      "encender la licuadora y poner a funcionar\n",
      "servir con abundante hielo\n",
      "pelar las naranjas\n",
      "remover las semillas\n",
      "cortar las naranjas\n",
      "encender la licuadora\n",
      "anhadir las naranjas cortadas, el azucar y el agua a la licuadora\n",
      "encender la licuadora y poner a funcionar\n",
      "servir con abundante hielo\n"
     ]
    }
   ],
   "source": [
    "def elaboracion_de_jugo_naranja(): \n",
    "    print(\"pelar las naranjas\")\n",
    "    print(\"remover las semillas\")\n",
    "    print(\"cortar las naranjas\")\n",
    "    print(\"encender la licuadora\")\n",
    "    print(\"anhadir las naranjas cortadas, el azucar y el agua a la licuadora\")\n",
    "    print(\"encender la licuadora y poner a funcionar\")\n",
    "    print(\"servir con abundante hielo\")\n",
    "\n",
    "elaboracion_de_jugo_naranja()\n",
    "elaboracion_de_jugo_naranja()\n",
    "elaboracion_de_jugo_naranja()\n"
   ]
  },
  {
   "cell_type": "markdown",
   "metadata": {},
   "source": [
    "Parametros y argumentos"
   ]
  },
  {
   "cell_type": "markdown",
   "metadata": {},
   "source": [
    "Challenge 🤺 - 15m\n",
    "\n",
    "Escribir una funcion que nos pregunte las caracteriticas de un elemento a comprar e imprima el elemento con sus caracteristicas.\n"
   ]
  },
  {
   "cell_type": "code",
   "execution_count": 36,
   "metadata": {},
   "outputs": [
    {
     "name": "stdout",
     "output_type": "stream",
     "text": [
      "Menciona las carateristicas del equipo que desea comprar\n",
      "\n",
      "Marca: Iphone \n",
      "Color: Blanco \n",
      "Precio: USD 300  \n",
      "Modelo: Iphone 11 normal \n",
      "Memoria interna: 128 Gb\n",
      "Menciona las carateristicas del equipo que desea comprar\n",
      "\n",
      "Marca: Samsung \n",
      "Color: USD 400 \n",
      "Precio: Negro  \n",
      "Modelo: S23 Ultra \n",
      "Memoria interna: 256 Gb\n"
     ]
    }
   ],
   "source": [
    "def caracteristicas_de_smartphone(marca,modelo, color, precio, memoria_interna):\n",
    "    print(\"Menciona las carateristicas del equipo que desea comprar\")\n",
    "    print(f\"\\nMarca: {marca} \\nColor: {color} \\nPrecio: {precio}  \\nModelo: {modelo} \\nMemoria interna: {memoria_interna} Gb\")\n",
    "\n",
    "caracteristicas_de_smartphone(\"Iphone\", \"Iphone 11 normal\", \"Blanco\", \"USD 300\", 128)\n",
    "caracteristicas_de_smartphone(\"Samsung\", \"S23 Ultra\", \"USD 400\",\"Negro\", \"256\")"
   ]
  },
  {
   "cell_type": "markdown",
   "metadata": {},
   "source": [
    "SCOPE"
   ]
  },
  {
   "cell_type": "markdown",
   "metadata": {},
   "source": [
    "Challenge 🤺 - 15m\n",
    "\n",
    "Escribir una funcion que te permita calcular la edad de una persona solicitando su anho de nacimiento y su nombre. \n",
    "Al final debe imprimir un mensaje que diga \"Hola soy {nombre} y tengo (edad)\". Ejecutar la funcion tres veces."
   ]
  },
  {
   "cell_type": "code",
   "execution_count": null,
   "metadata": {},
   "outputs": [],
   "source": []
  },
  {
   "cell_type": "code",
   "execution_count": 3,
   "metadata": {},
   "outputs": [
    {
     "name": "stdout",
     "output_type": "stream",
     "text": [
      " Hola, soy Gabriela, y tengo 27 anhos\n"
     ]
    }
   ],
   "source": [
    "usuario = input(\"Ingrese su nombre: \")\n",
    "anho_de_nacimiento = (input(\"Ingrese su anho de nacimiento: \"))\n",
    "\n",
    "def datos_del_usuario(nombre, edad):\n",
    "    print(f\" Hola, soy {nombre}, y tengo {edad} anhos\")\n",
    "\n",
    "\n",
    "age = 2023 - int(anho_de_nacimiento)\n",
    "\n",
    "datos_del_usuario(usuario, age)"
   ]
  },
  {
   "cell_type": "code",
   "execution_count": 4,
   "metadata": {},
   "outputs": [
    {
     "name": "stdout",
     "output_type": "stream",
     "text": [
      "Hola, soy Gabriela, y tengo 26 anhos\n",
      "Hola, soy Ashfaq, y tengo 25 anhos\n",
      "Hola, soy Fatima, y tengo 27 anhos\n"
     ]
    }
   ],
   "source": [
    "def calcular_edad(nombre, anho_anho_de_nacimiento): #crear mi funcion\n",
    "    edad = 2023 - anho_anho_de_nacimiento\n",
    "    print(f\"Hola, soy {nombre}, y tengo {edad} anhos\")\n",
    "\n",
    "calcular_edad(\"Gabriela\", int(\"1997\"))\n",
    "calcular_edad(\"Ashfaq\", (int(\"1998\")))\n",
    "calcular_edad(\"Fatima\", (int(\"1996\")))"
   ]
  }
 ],
 "metadata": {
  "kernelspec": {
   "display_name": "Python 3",
   "language": "python",
   "name": "python3"
  },
  "language_info": {
   "codemirror_mode": {
    "name": "ipython",
    "version": 3
   },
   "file_extension": ".py",
   "mimetype": "text/x-python",
   "name": "python",
   "nbconvert_exporter": "python",
   "pygments_lexer": "ipython3",
   "version": "3.10.12"
  }
 },
 "nbformat": 4,
 "nbformat_minor": 2
}
