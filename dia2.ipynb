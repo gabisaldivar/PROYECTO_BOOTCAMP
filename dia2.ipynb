{
 "cells": [
  {
   "cell_type": "markdown",
   "metadata": {},
   "source": [
    "Operadores de comparacion"
   ]
  },
  {
   "cell_type": "markdown",
   "metadata": {},
   "source": [
    "Condicionales"
   ]
  },
  {
   "cell_type": "markdown",
   "metadata": {},
   "source": [
    "Escribir un programa que evalue si una persona es activa laboralmente. Si es menor a 18 imprimir \"menor de edad\" si es mayor a 65 imprimir \"jubilado\" y si ninguna de las anteriores se cumple imprimir \"activo laboralmente\" "
   ]
  },
  {
   "cell_type": "code",
   "execution_count": null,
   "metadata": {},
   "outputs": [
    {
     "name": "stdout",
     "output_type": "stream",
     "text": [
      "menor de edad\n"
     ]
    }
   ],
   "source": [
    "\n",
    "x = 18\n",
    "y = 65\n",
    "edad = int(input(\"Favor, ingrese su edad: \"))\n",
    "if edad < x:\n",
    "    print(\"menor de edad\")\n",
    "elif edad > 65:\n",
    "    print(\"jubilado\")\n",
    "else:\n",
    "    print(\"activo laboralmente\")\n",
    "\n"
   ]
  },
  {
   "cell_type": "code",
   "execution_count": null,
   "metadata": {},
   "outputs": [
    {
     "name": "stdout",
     "output_type": "stream",
     "text": [
      "La temperatura actual es 46 grados Celsius\n",
      "Ñamano mba'e\n"
     ]
    }
   ],
   "source": [
    "\"\"\"Challenge 🤺- 20m\n",
    "Escribir un programa en el que se pregunte al usuario por una temperatura (en grados Celsius), imprima la temperatura escrita, y luego clasificar la temperatura ingresada en los siguientes niveles:\n",
    "\n",
    "Entre -10 y 18 grados, que imprima \"Fresquete\".\n",
    "Entre 19 y 30 grados, que imprima \"Calor'i\".\n",
    "Entre 31 y 45 grados, que imprima \"Hakuuuuuu\".\n",
    "Para todo lo demás, imprimir \"Ñamano mba'e!\".\"\"\"\n",
    "\n",
    "temperatura = int(input(\"Ingrese la temperatura actual en grados Celsius\"))\n",
    "print(f\"La temperatura actual es {temperatura} grados Celsius\")\n",
    "\n",
    "if(temperatura >= -10 and temperatura <= 18):\n",
    "    print(\"Fresquete\")\n",
    "elif(temperatura >= 19 and temperatura <= 30):\n",
    "    print(\"Calor'i\")\n",
    "elif(temperatura >= 31 and temperatura <= 45):\n",
    "    print(\"Hakuuuuu\")\n",
    "else:\n",
    "    print(\"Ñamano mba'e\")\n",
    "\n"
   ]
  },
  {
   "cell_type": "markdown",
   "metadata": {},
   "source": [
    "Bucles condicionales\n",
    "while"
   ]
  },
  {
   "cell_type": "markdown",
   "metadata": {},
   "source": [
    "Bucles infinitos"
   ]
  },
  {
   "cell_type": "code",
   "execution_count": 23,
   "metadata": {},
   "outputs": [
    {
     "name": "stdout",
     "output_type": "stream",
     "text": [
      "Contrasenha incorrecta\n",
      "Contrasenha incorrecta\n",
      "Contrasenha incorrecta\n",
      "Contrasenha incorrecta\n",
      "Su saldo actual es de: 2.128.000 Gs.\n"
     ]
    }
   ],
   "source": [
    "\"\"\"Challenge :esgrimista: - 15m\n",
    "Escribir un programa que almacene una contraseña en una variable, y pregunte al usuario por la contraseña hasta que introduzca la contraseña correcta.\n",
    "\n",
    "Cuando el usuario ingrese la contrasena correcta, imprimir un mensaje secreto.\"\"\"\"\"\n",
    "\n",
    "contrasenha = \"nankurunaisa23\"\n",
    "introduccion_contrasenha = input(\"Favor, ingresar contrasenha\")\n",
    "\n",
    "while introduccion_contrasenha != contrasenha:\n",
    "    print(\"Contrasenha incorrecta\")\n",
    "    introduccion_contrasenha = input(\"Favor, ingresar contrasenha\")\n",
    "\n",
    "print(\"Su saldo actual es de: 2.128.000 Gs.\")\n",
    "\n"
   ]
  },
  {
   "cell_type": "markdown",
   "metadata": {},
   "source": [
    "Listas"
   ]
  },
  {
   "cell_type": "code",
   "execution_count": 24,
   "metadata": {},
   "outputs": [
    {
     "name": "stdout",
     "output_type": "stream",
     "text": [
      "['Medicina', 'ingenieria Civil', 'Periodismo', 'Derecho', 'Economia', 'Contabilidad', 'Ingenieria en Marketing', 'Biotecnologia']\n",
      "['Medicina', 'Ingenieria en Informatica', 'Periodismo', 'Derecho', 'Economia', 'Contabilidad', 'Ingenieria en Marketing', 'Biotecnologia']\n",
      "['Medicina', 'Ingenieria en Informatica', 'Derecho', 'Economia', 'Contabilidad', 'Ingenieria en Marketing', 'Biotecnologia']\n"
     ]
    }
   ],
   "source": [
    "\"\"\"Crear una lista de 5 elementos. Luego, seguir los siguientes pasos.\n",
    "\n",
    "Agregar un elemento al final de la lista.\n",
    "\n",
    "Modificar el segundo elemento.\n",
    "\n",
    "Eliminar el tercer elemento.\"\"\"\n",
    "\n",
    "lista_carreras_habilitadas_UNA= [\"Medicina\", \"ingenieria Civil\",\"Periodismo\", \"Derecho\", \"Economia\", \"Contabilidad\", \"Ingenieria en Marketing\"]\n",
    "\n",
    "#Agregar un elemento al final de la lista.\n",
    "lista_carreras_habilitadas_UNA.append(\"Biotecnologia\")\n",
    "print(lista_carreras_habilitadas_UNA)\n",
    "\n",
    "#Modificar el segundo elemento.\n",
    "lista_carreras_habilitadas_UNA[1] = \"Ingenieria en Informatica\"\n",
    "print(lista_carreras_habilitadas_UNA)\n",
    "\n",
    "#Eliminar el tercer elemento.\n",
    "lista_carreras_habilitadas_UNA.pop(2)\n",
    "print(lista_carreras_habilitadas_UNA)\n",
    "\n"
   ]
  },
  {
   "cell_type": "markdown",
   "metadata": {},
   "source": [
    "#Bucle FOR (iterativo)"
   ]
  },
  {
   "cell_type": "code",
   "execution_count": 31,
   "metadata": {},
   "outputs": [
    {
     "name": "stdout",
     "output_type": "stream",
     "text": [
      "0\n",
      "2\n",
      "4\n",
      "6\n",
      "8\n",
      "10\n",
      "12\n",
      "14\n",
      "16\n",
      "18\n"
     ]
    }
   ],
   "source": [
    "\"\"\"Challenge 🤺 - 20m\n",
    "Escribir un programa que itere en un rango de 10 veces. Por cada iteracion multiplicar el iterador por dos e imprimir el resultado.\"\"\"\n",
    "\n",
    "for ganancia in range (10):\n",
    "    resultado= (ganancia) * 2\n",
    "    print(resultado)\n",
    "\n",
    "    "
   ]
  },
  {
   "cell_type": "code",
   "execution_count": 45,
   "metadata": {},
   "outputs": [
    {
     "name": "stdout",
     "output_type": "stream",
     "text": [
      "Electrolux\n",
      "Samsung\n",
      "Consul\n",
      "Whirpool\n"
     ]
    }
   ],
   "source": [
    "#len(\"love\")\n",
    "\"\"\"Recorrer los elementos de una lista de marcas e imprimir cada marca solamente si tiene 6 letras o más.\n",
    "\n",
    "Pista: len()\"\"\"\n",
    "\n",
    "lista_de_marcas_de_electrodomesticos = [\"Tokio\", \"Electrolux\", \"Samsung\", \"Jam\", \"Consul\", \"Whirpool\"]\n",
    "\n",
    "for marca in lista_de_marcas_de_electrodomesticos:\n",
    "\n",
    "    if (len(marca) >= 6):\n",
    "\n",
    "        print(marca)\n",
    "    \n"
   ]
  }
 ],
 "metadata": {
  "kernelspec": {
   "display_name": "Python 3",
   "language": "python",
   "name": "python3"
  },
  "language_info": {
   "codemirror_mode": {
    "name": "ipython",
    "version": 3
   },
   "file_extension": ".py",
   "mimetype": "text/x-python",
   "name": "python",
   "nbconvert_exporter": "python",
   "pygments_lexer": "ipython3",
   "version": "3.10.12"
  }
 },
 "nbformat": 4,
 "nbformat_minor": 2
}
