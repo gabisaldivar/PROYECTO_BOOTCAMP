{
 "cells": [
  {
   "cell_type": "code",
   "execution_count": 10,
   "metadata": {},
   "outputs": [
    {
     "name": "stdout",
     "output_type": "stream",
     "text": [
      "Feliz Cumpleanhos\n"
     ]
    }
   ],
   "source": [
    "\n",
    "## Crear una función que imprima la variable palabra.\n",
    "\n",
    "def imprimir_palabra():\n",
    "    palabra = \"Feliz Cumpleanhos\"\n",
    "    print(f\"{palabra}\")\n",
    "    \n",
    "imprimir_palabra()\n",
    "\n",
    "#def sumar_numeros(numero_1, numero_2): # definir mi funcion con sus parametros(variables)"
   ]
  },
  {
   "cell_type": "code",
   "execution_count": 15,
   "metadata": {},
   "outputs": [
    {
     "name": "stdout",
     "output_type": "stream",
     "text": [
      "Las letras son diferentes\n",
      "Las letras son iguales\n"
     ]
    }
   ],
   "source": [
    "\n",
    "def letras_iguales(letra_1, letra_2):\n",
    "    if letra_1 == letra_2:\n",
    "        print(f\"Las letras son iguales\")\n",
    "    else:\n",
    "        print(f\"Las letras son diferentes\")\n",
    "\n",
    "letras_iguales(\"a\", \"z\")\n",
    "letras_iguales(\"w\", \"w\")\n"
   ]
  },
  {
   "cell_type": "code",
   "execution_count": 33,
   "metadata": {},
   "outputs": [
    {
     "name": "stdout",
     "output_type": "stream",
     "text": [
      "Las letras son iguales\n"
     ]
    }
   ],
   "source": [
    "## Con Input\n",
    "\n",
    "first_letter = input(\"Escribe la primera letra: \")\n",
    "second_letter= input(\"Escribe la segunda letra:\")\n",
    "def same_letter(first_letter, second_letter):\n",
    "    if first_letter == second_letter:\n",
    "        print(\"Las letras son iguales\")\n",
    "    else:\n",
    "        print(\"Las letras son diferentes\")\n",
    "same_letter(first_letter, second_letter=)\n",
    "##def same_letters(first_letter, second_letter):\"\"\"\n",
    "\n",
    "\n"
   ]
  },
  {
   "cell_type": "code",
   "execution_count": 25,
   "metadata": {},
   "outputs": [
    {
     "name": "stdout",
     "output_type": "stream",
     "text": [
      "9\n"
     ]
    },
    {
     "data": {
      "text/plain": [
       "False"
      ]
     },
     "execution_count": 25,
     "metadata": {},
     "output_type": "execute_result"
    }
   ],
   "source": [
    "\"\"\"Challenge 3 🤺 - 15m\n",
    "Crear una función que reciba dos parámetros (una palabra y un número), y que retorne True si el número es igual a la cantidad de letras de la palabra. En caso contrario, que retorne False.\n",
    "\n",
    "Pista: cantidad de letras de una palabra en python\"\"\"\n",
    "\n",
    "def contar (palabra, numero):\n",
    "    longitud_palabra = len(palabra)\n",
    "    print(longitud_palabra)\n",
    "    if longitud_palabra == numero:\n",
    "        return True\n",
    "    else:\n",
    "        return False\n",
    "    \n",
    "contar(\"Knowledge\", 12)\n",
    "\n"
   ]
  },
  {
   "cell_type": "code",
   "execution_count": 26,
   "metadata": {},
   "outputs": [
    {
     "data": {
      "text/plain": [
       "False"
      ]
     },
     "execution_count": 26,
     "metadata": {},
     "output_type": "execute_result"
    }
   ],
   "source": [
    "### Otra forma de hacer\n",
    "def retorno(palabra, numero):\n",
    "    if numero == (len(palabra)):\n",
    "        return True\n",
    "    else:\n",
    "        return False\n",
    "\n",
    "palabra = input('Escribi la primera palabra que se te ocurra:')\n",
    "numero = int(input('Escribe el numero que se te ocurra'))\n",
    "\n",
    "retorno(palabra, numero)"
   ]
  },
  {
   "cell_type": "code",
   "execution_count": 37,
   "metadata": {},
   "outputs": [
    {
     "data": {
      "text/plain": [
       "'[t]'"
      ]
     },
     "execution_count": 37,
     "metadata": {},
     "output_type": "execute_result"
    }
   ],
   "source": [
    "\"\"\"Challenge 4 🤺 - 20 min\n",
    "Crear función que revise si una palabra contiene una letra. En caso de que la contenga, retornar la letra entre corchetes []. De lo contrario, retornar solo la letra.\"\"\"\n",
    "\n",
    "def letra_incluida(palabra, letra):\n",
    "    palabra_contenida = letra in palabra\n",
    "    if palabra_contenida:\n",
    "        return (f\"[{letra}]\")\n",
    "    else:\n",
    "        return letra\n",
    "\n",
    "letra_incluida(\"Brillante\", \"t\")"
   ]
  },
  {
   "cell_type": "code",
   "execution_count": null,
   "metadata": {},
   "outputs": [],
   "source": []
  },
  {
   "cell_type": "code",
   "execution_count": 74,
   "metadata": {},
   "outputs": [
    {
     "name": "stdout",
     "output_type": "stream",
     "text": [
      "[['h', 'o', 'l', 'a']]\n",
      "[['h', 'o', 'l', 'a'], ['k', 'i']]\n",
      "[['h', 'o', 'l', 'a'], ['k', 'i'], ['l', 'o']]\n"
     ]
    }
   ],
   "source": [
    "\"\"\"Challenge 5 🤺 - 20m\n",
    "Pedir al usuario que ingrese 1 palabra, luego convertir esa palabra a una lista con sus caracteres con list(). Agregar esa lista de caracteres a una lista llamada palabras_ingresadas. Repetir el proceso 3 veces. Cada vez que se agregue una lista de caracteres, imprimir la lista palabras_ingresadas.\n",
    "\n",
    "\n",
    "Ejemplo del resultado esperado:\n",
    "\n",
    "[['c', 'i', 'e', 'l', 'o']]\n",
    " # Al ingresar la primera palabra\n",
    "\n",
    "[['c', 'i', 'e', 'l', 'o'], ['c', 'a', 'l', 'o', 'r']]\n",
    " # Al ingresar la segunda palabra\n",
    "\n",
    "[['c', 'i', 'e', 'l', 'o'], ['c', 'a', 'l', 'o', 'r'], ['n', 'u', 'b', 'e', 's']]\n",
    " # Al ingresar la tercera palabra\"\"\"\n",
    "\n",
    "lista_palabras_ingresadas = [] # lista vacia \n",
    "\n",
    "def crear_lista ():\n",
    "    \n",
    "    for i in range (3):\n",
    "        palabra_de_entrada = input(\"Ingrese la palabra: \") #pedir al usuario que ingresa una palabra\n",
    "        lista_de_caracteres = list(palabra_de_entrada) # convertir a una lista de caracteres\n",
    "        lista_palabras_ingresadas.append(lista_de_caracteres) # agregar la lista de caracteres a palabras ingresadas\n",
    "        print(lista_palabras_ingresadas)\n",
    "\n",
    "crear_lista()\n"
   ]
  },
  {
   "cell_type": "code",
   "execution_count": 88,
   "metadata": {},
   "outputs": [
    {
     "name": "stdout",
     "output_type": "stream",
     "text": [
      "['h', 'o', 'l', 'i', 's']\n",
      "['h', 'e', 'l', 'l', 'o']\n",
      "['h', 'a', 'l', 'l', 'o']\n"
     ]
    }
   ],
   "source": [
    "\"\"\"Challenge 6 🤺 - 20m\n",
    "Dada la lista de ejemplo: \n",
    "\n",
    "lista = [['h', 'o', 'l', 'i', 's'], ['h', 'e', 'l', 'l', 'o'], ['h', 'a', 'l', 'l', 'o']]\n",
    "\n",
    "Crear una función que imprima una grilla (lista de listas), una línea por cada lista dentro de la lista principal.\n",
    "\n",
    "Ejemplo del resultado esperado:\n",
    "\n",
    "['h', 'o', 'l', 'i', 's']\n",
    "['h', 'e', 'l', 'l', 'o']\n",
    "['h', 'a', 'l', 'l', 'o']\"\"\"\n",
    "\n",
    "lista = [['h', 'o', 'l', 'i', 's'], ['h', 'e', 'l', 'l', 'o'], ['h', 'a', 'l', 'l', 'o']]\n",
    "\n",
    "def grilla(): \n",
    "    for iterador in lista:\n",
    "        print(iterador)\n",
    "\n",
    "grilla()"
   ]
  },
  {
   "cell_type": "code",
   "execution_count": 89,
   "metadata": {},
   "outputs": [
    {
     "name": "stdout",
     "output_type": "stream",
     "text": [
      "['h', 'o', 'l', 'i', 's']\n",
      "['h', 'e', 'l', 'l', 'o']\n",
      "['h', 'a', 'l', 'l', 'o']\n"
     ]
    }
   ],
   "source": [
    "lista = [['h', 'o', 'l', 'i', 's'], ['h', 'e', 'l', 'l', 'o'], ['h', 'a', 'l', 'l', 'o']]\n",
    "def imprimir_grilla(lista):\n",
    "    cantidad_de_filas = len(lista)\n",
    "    for fila in range(cantidad_de_filas):\n",
    "        print(lista[fila])\n",
    "imprimir_grilla(lista)"
   ]
  }
 ],
 "metadata": {
  "kernelspec": {
   "display_name": "Python 3",
   "language": "python",
   "name": "python3"
  },
  "language_info": {
   "codemirror_mode": {
    "name": "ipython",
    "version": 3
   },
   "file_extension": ".py",
   "mimetype": "text/x-python",
   "name": "python",
   "nbconvert_exporter": "python",
   "pygments_lexer": "ipython3",
   "version": "3.10.12"
  }
 },
 "nbformat": 4,
 "nbformat_minor": 2
}
