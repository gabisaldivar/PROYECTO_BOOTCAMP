{
 "cells": [
  {
   "cell_type": "markdown",
   "metadata": {},
   "source": [
    "Programacion orientada a objetos"
   ]
  },
  {
   "cell_type": "code",
   "execution_count": 11,
   "metadata": {},
   "outputs": [
    {
     "name": "stdout",
     "output_type": "stream",
     "text": [
      "Me llamo Makena, y soy un elefante de color gris\n",
      "Me llamo Lola, y soy una vaca de color negro\n",
      "Me llamo Kiusha, y soy un gato de color blanco con gris\n"
     ]
    }
   ],
   "source": [
    "\n",
    "\"\"\"Challenge 🤺\n",
    "Crear una clase animales que tenga atributo de clase y de instancia.\n",
    "\n",
    "Atributos de clase: especie.\n",
    "Atributos de instancia: nombre & color\n",
    ".\n",
    "Luego, crear nuevos objetos a partir de las nuevas class. Imprimir el nombre y el color de los animales en una frase.\n",
    "Ejemplo: \"Me llamo {nombre} y soy un ave de color {color}\".\"\"\"\n",
    "\n",
    "# Crear una clase\n",
    "class Animales:\n",
    "# Crear un atributo de clase\n",
    "    especie = \"mamifero\"\n",
    "\n",
    "# Crear atributos de instancia\n",
    "\n",
    "    def __init__(self, nombre, color):\n",
    "        self.nombre = nombre\n",
    "        self.color = color\n",
    "# Crear nuevos objetos\n",
    "elefante = Animales(\"Makena\", \"gris\")\n",
    "vaca = Animales(\"Lola\", \"negro\")\n",
    "gato = Animales(\"Kiusha\", \"blanco con gris\")\n",
    "# Imprimir el nombre y color\n",
    "print(f\"Me llamo {elefante.nombre}, y soy un elefante de color {elefante.color}\")\n",
    "print(f\"Me llamo {vaca.nombre}, y soy una vaca de color {vaca.color}\")\n",
    "print(f\"Me llamo {gato.nombre}, y soy un gato de color {gato.color}\")\n"
   ]
  },
  {
   "cell_type": "markdown",
   "metadata": {},
   "source": [
    "METODOS"
   ]
  },
  {
   "cell_type": "code",
   "execution_count": 23,
   "metadata": {},
   "outputs": [
    {
     "name": "stdout",
     "output_type": "stream",
     "text": [
      "Soy un guepardo, me llamo Kiki, y soy el animal mas rapido de la selva, puedo correr hasta 130 km/h.\n",
      "Devoro a mis presas en los arboles.\n"
     ]
    }
   ],
   "source": [
    "\"\"\"Challenge 🤺\n",
    "Crear dos métodos para nuestro animal y ejecutar, debe ser algo específico de ese animal.\n",
    "\n",
    "Ejemplo: \"Cuando hablo, digo X\".\n",
    "Ejemplo: \"Cuando me muevo, hago X\".\"\"\"\n",
    "\n",
    "class Habilidades_animal:\n",
    "    especie = \"mamifero\"\n",
    "\n",
    "    def __init__(self, animal, nombre):\n",
    "        self.animal = animal\n",
    "        self.nombre = nombre\n",
    "\n",
    "\n",
    "    def correr(self, km):\n",
    "        print(f\"Soy un {self.animal}, me llamo {self.nombre}, y soy el animal mas rapido de la selva, puedo correr hasta {km} km/h.\")\n",
    "\n",
    "    def trepar_arboles(self):\n",
    "     print(\"Devoro a mis presas en los arboles.\")\n",
    "\n",
    "chita = Habilidades_animal(\"guepardo\", \"Kiki\")\n",
    "chita.correr(130)\n",
    "chita.trepar_arboles()"
   ]
  },
  {
   "cell_type": "code",
   "execution_count": 36,
   "metadata": {},
   "outputs": [
    {
     "name": "stdout",
     "output_type": "stream",
     "text": [
      "Verdes\n",
      "Triguenho\n",
      "Yo soy Joaquin y puedo cantar\n",
      "<bound method rasgos_nieto.habilidad_nieto of <__main__.rasgos_nieto object at 0x7f3bccff4e80>>, soy Triguenho con ojosVerdes\n"
     ]
    }
   ],
   "source": [
    "\"\"\"Challenge 🤺\n",
    "Definir una clase madre que herede a sus clases hijas dos atributos de instancia. Mostrar ambos atributos en pantalla desde los objetos de las clases hijas.\n",
    "\n",
    "Observación: Editar las clases hijas para que no se inicialicen.\"\"\"\n",
    "#Creamos la clase Padre\n",
    "class rasgos_Abuelo:\n",
    "# Atributo de clase\n",
    "    tipo = \"Humano\"\n",
    "# Atributo de instancia\n",
    "    def __init__(self, color_ojos, color_piel):\n",
    "        self.color_ojos = color_ojos\n",
    "        self.color_piel = color_piel\n",
    "#Creamos la clase hija\n",
    "class rasgos_nieto(rasgos_Abuelo):\n",
    "# Atributo de la clase hija\n",
    "    nombre = \"Joaquin\"\n",
    "# Metodo de la clase hija\n",
    "    def habilidad_nieto(self):\n",
    "        talento_nieto = print(f\"Yo soy {rasgos_nieto.nombre} y puedo cantar\")\n",
    "        return talento_nieto\n",
    "\n",
    "Abuelo = rasgos_Abuelo(\"Verdes\", \"blanca\")\n",
    "Nieto = rasgos_nieto(\"Verdes\", \"Triguenho\")\n",
    "print(Abuelo.color_ojos)\n",
    "print(Nieto.color_piel)\n",
    "Nieto.habilidad_nieto()\n",
    "print(f\"{Nieto.habilidad_nieto}, soy {Nieto.color_piel} con ojos{Nieto.color_ojos}\")\n",
    "\n",
    "    "
   ]
  },
  {
   "cell_type": "markdown",
   "metadata": {},
   "source": [
    "DICCIONARIOS"
   ]
  },
  {
   "cell_type": "code",
   "execution_count": null,
   "metadata": {},
   "outputs": [],
   "source": [
    "mi_contacto = {\n",
    "    \"nombre\" : \"Ana\",\n",
    "    \"apellido\" : \"Britez\", \n",
    "    \"email\" : \"analia@penguin\",\n",
    "    \"direccion\" : \"calle mengano 1\"\n",
    "}\n",
    "#immprimir\n",
    "print(mi_contacto)\n",
    "\n",
    "#Acceder a datos del diccionario\n",
    "mi_contacto[\"nombre\"]\n",
    "print(mi_contacto[\"direccion\"])\n",
    "\n",
    "#desplegar datos especificos\n",
    "mi_contacto.keys() # ver las claves de mi diccionario\n",
    "mi_contacto.values() # ver los valores del diccionario\n",
    "mi_contacto.items()\n",
    "\n",
    "#anhadir un dato al diccionario o actualizar\n",
    "mi_contacto[\"barrio\"] = \"Los laureles\" # nueva clave\n",
    "print(mi_contacto)\n",
    "mi_contacto[\"apellido\"] = \" gonzalez \" # ya existe la clave\n",
    "print(mi_contacto)\n",
    "\n",
    "#Eliminar datos del diccionario\n",
    "#ultimo par\n",
    "mi_contacto.popitem()\n",
    "print(mi_contacto)\n",
    "#por clave\n",
    "del mi_contacto[\"apellido\"]\n",
    "print(mi_contacto)\n"
   ]
  },
  {
   "cell_type": "code",
   "execution_count": 43,
   "metadata": {},
   "outputs": [
    {
     "name": "stdout",
     "output_type": "stream",
     "text": [
      "{'Nombre:': 'gabriela', 'Edad: ': 'gabriela', 'Sexo:': '23', 'Telefono: ': '23', 'Correo Electronico: ': '0983421352'}\n"
     ]
    }
   ],
   "source": [
    "\"\"\"Challenge 1 🤺\n",
    "Escribir un programa que cree un diccionario vacío y lo vaya llenado con información sobre una persona (por ejemplo nombre, edad, sexo, teléfono, correo electrónico, etc.) \n",
    "que se le pida al usuario. Cada vez que se añada un nuevo dato debe imprimirse el contenido del diccionario.\"\"\"\n",
    "\n",
    "#crear un diccionario vacio\n",
    "datos_usuario = {}\n",
    "#Pedir al usuario las infos\n",
    "nombre = input(\"Ingrese su nombre: \")\n",
    "edad = input(\"Ingrese su edad: \")\n",
    "sexo = int(input(\"Ingrese su edad \"))\n",
    "telefono = input(\"Ingrese su numero de telefono \")\n",
    "correo_electronico = input(\"Ingrese la direccion de su correo electronico \")\n",
    "#Anhadir al diccionario vacio\n",
    "datos_usuario[\"Nombre:\"] = nombre \n",
    "datos_usuario[\"Edad: \"] = edad\n",
    "datos_usuario[\"Sexo:\"] = sexo\n",
    "datos_usuario[\"Telefono: \"] = telefono\n",
    "datos_usuario[\"Correo Electronico: \"] = correo_electronico\n",
    "#Ir imprimiendo el contenido del diccionario\n",
    "print(datos_usuario)\n",
    "\n"
   ]
  },
  {
   "cell_type": "code",
   "execution_count": 1,
   "metadata": {},
   "outputs": [
    {
     "name": "stdout",
     "output_type": "stream",
     "text": [
      "Opcion no valida, ingrese SI/NO\n",
      "{'SI': 'si'}\n",
      "Opcion no valida, ingrese SI/NO\n",
      "Opcion no valida, ingrese SI/NO\n",
      "Opcion no valida, ingrese SI/NO\n"
     ]
    }
   ],
   "source": [
    "datos_usuario = {}\n",
    "\n",
    "while True:\n",
    "    menu = input(\"Desea cargar un dato? SI/NO\")\n",
    "    if menu == \"SI\":\n",
    "        clave = input(\"Ingrese el dato: \")\n",
    "        valor = input(\"Ingrese el valor: \")\n",
    "        datos_usuario[clave] = valor\n",
    "        print(datos_usuario)\n",
    "    elif menu == \"NO\":\n",
    "        print(\"Gracias por todo\")\n",
    "        break\n",
    "    else:\n",
    "        print(\"Opcion no valida, ingrese SI/NO\")\n",
    "        menu = input(\"Desea cargar un dato? SI / NO\")\n"
   ]
  },
  {
   "cell_type": "code",
   "execution_count": null,
   "metadata": {},
   "outputs": [],
   "source": []
  },
  {
   "cell_type": "code",
   "execution_count": null,
   "metadata": {},
   "outputs": [],
   "source": []
  },
  {
   "cell_type": "code",
   "execution_count": 8,
   "metadata": {},
   "outputs": [],
   "source": [
    "\"\"\"Challenge 2 🤺\n",
    "Challenge 2 🤺\n",
    "Crear una tarjeta personal. El usuario (mediante input) puede elegir:\n",
    "\n",
    "Crear datos nuevos\n",
    "Modificar datos\n",
    "Eliminar datos\"\"\"\n",
    "\n",
    "tarjeta_personal = {}\n",
    "\n",
    "\n",
    "while True:\n",
    "    elegir_que_hacer = int(input(\"Que desea hacer? 1- Crear datos nuevos, 2- Modificar datos , 3 - Eliminar datos\"))\n",
    "    \n",
    "    if elegir_que_hacer == 1:\n",
    "        clave = input(\"Ingrese el dato: \")\n",
    "        valor = input(\"Ingrese el valor: \")\n",
    "        tarjeta_personal[clave] = valor\n",
    "        print(tarjeta_personal)\n",
    "    \n",
    "    elif elegir_que_hacer == 2:\n",
    "        clave = input(\"Ingrese el dato que desea modificar: \")\n",
    "        valor = input(\"Ingrese el valor que desea modificar: \")\n",
    "        tarjeta_personal[clave] = valor\n",
    "        print(tarjeta_personal)\n",
    "    \n",
    "    elif elegir_que_hacer == 3:\n",
    "            clave = input(\"Ingrese el dato que desea eliminar: \")\n",
    "            del tarjeta_personal[clave]\n",
    "            print(tarjeta_personal)\n",
    "    else:\n",
    "        print(\"La opcion ingresada no es valida\")\n",
    "        break\n",
    "         \n",
    "\n",
    "\n",
    "    "
   ]
  }
 ],
 "metadata": {
  "kernelspec": {
   "display_name": "Python 3",
   "language": "python",
   "name": "python3"
  },
  "language_info": {
   "codemirror_mode": {
    "name": "ipython",
    "version": 3
   },
   "file_extension": ".py",
   "mimetype": "text/x-python",
   "name": "python",
   "nbconvert_exporter": "python",
   "pygments_lexer": "ipython3",
   "version": "3.10.12"
  }
 },
 "nbformat": 4,
 "nbformat_minor": 2
}
